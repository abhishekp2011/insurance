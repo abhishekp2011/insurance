{
  "nbformat": 4,
  "nbformat_minor": 0,
  "metadata": {
    "colab": {
      "name": "Untitled2.ipynb",
      "provenance": [],
      "collapsed_sections": [],
      "authorship_tag": "ABX9TyPhj+btpW7+COVObLsapfsI",
      "include_colab_link": true
    },
    "kernelspec": {
      "name": "python3",
      "display_name": "Python 3"
    },
    "language_info": {
      "name": "python"
    }
  },
  "cells": [
    {
      "cell_type": "markdown",
      "metadata": {
        "id": "view-in-github",
        "colab_type": "text"
      },
      "source": [
        "<a href=\"https://colab.research.google.com/github/abhishekp2011/insurance/blob/main/medical_insurance.ipynb\" target=\"_parent\"><img src=\"https://colab.research.google.com/assets/colab-badge.svg\" alt=\"Open In Colab\"/></a>"
      ]
    },
    {
      "cell_type": "markdown",
      "source": [
        "**Data Overview**"
      ],
      "metadata": {
        "id": "VSShW2aK-_jl"
      }
    },
    {
      "cell_type": "code",
      "source": [
        "# Importing all the necessary modules\n",
        "import pandas as pd\n",
        "import numpy as np\n",
        "import matplotlib.pyplot as plt\n",
        "import seaborn as sns\n",
        "import warnings\n",
        "warnings.filterwarnings(\"ignore\")"
      ],
      "metadata": {
        "id": "_2HTLuA3H9uL"
      },
      "execution_count": 3,
      "outputs": []
    },
    {
      "cell_type": "code",
      "source": [
        "#load and check the shape .\n",
        "data = pd.read_csv(\"/content/insurance.csv\")\n",
        "data.shape"
      ],
      "metadata": {
        "colab": {
          "base_uri": "https://localhost:8080/",
          "height": 0
        },
        "id": "0GLtsVRMIPp-",
        "outputId": "080d4049-e78b-4a14-8fbc-4a6fbcfbf41c"
      },
      "execution_count": 4,
      "outputs": [
        {
          "output_type": "execute_result",
          "data": {
            "text/plain": [
              "(1338, 7)"
            ]
          },
          "metadata": {},
          "execution_count": 4
        }
      ]
    },
    {
      "cell_type": "code",
      "source": [
        "data.head()"
      ],
      "metadata": {
        "colab": {
          "base_uri": "https://localhost:8080/",
          "height": 206
        },
        "id": "aCbNZe41IRHC",
        "outputId": "b5b289e7-228f-4045-d0db-28e7bacef146"
      },
      "execution_count": 5,
      "outputs": [
        {
          "output_type": "execute_result",
          "data": {
            "text/html": [
              "<div>\n",
              "<style scoped>\n",
              "    .dataframe tbody tr th:only-of-type {\n",
              "        vertical-align: middle;\n",
              "    }\n",
              "\n",
              "    .dataframe tbody tr th {\n",
              "        vertical-align: top;\n",
              "    }\n",
              "\n",
              "    .dataframe thead th {\n",
              "        text-align: right;\n",
              "    }\n",
              "</style>\n",
              "<table border=\"1\" class=\"dataframe\">\n",
              "  <thead>\n",
              "    <tr style=\"text-align: right;\">\n",
              "      <th></th>\n",
              "      <th>age</th>\n",
              "      <th>sex</th>\n",
              "      <th>bmi</th>\n",
              "      <th>children</th>\n",
              "      <th>smoker</th>\n",
              "      <th>region</th>\n",
              "      <th>charges</th>\n",
              "    </tr>\n",
              "  </thead>\n",
              "  <tbody>\n",
              "    <tr>\n",
              "      <th>0</th>\n",
              "      <td>19</td>\n",
              "      <td>female</td>\n",
              "      <td>27.900</td>\n",
              "      <td>0</td>\n",
              "      <td>yes</td>\n",
              "      <td>southwest</td>\n",
              "      <td>16884.92400</td>\n",
              "    </tr>\n",
              "    <tr>\n",
              "      <th>1</th>\n",
              "      <td>18</td>\n",
              "      <td>male</td>\n",
              "      <td>33.770</td>\n",
              "      <td>1</td>\n",
              "      <td>no</td>\n",
              "      <td>southeast</td>\n",
              "      <td>1725.55230</td>\n",
              "    </tr>\n",
              "    <tr>\n",
              "      <th>2</th>\n",
              "      <td>28</td>\n",
              "      <td>male</td>\n",
              "      <td>33.000</td>\n",
              "      <td>3</td>\n",
              "      <td>no</td>\n",
              "      <td>southeast</td>\n",
              "      <td>4449.46200</td>\n",
              "    </tr>\n",
              "    <tr>\n",
              "      <th>3</th>\n",
              "      <td>33</td>\n",
              "      <td>male</td>\n",
              "      <td>22.705</td>\n",
              "      <td>0</td>\n",
              "      <td>no</td>\n",
              "      <td>northwest</td>\n",
              "      <td>21984.47061</td>\n",
              "    </tr>\n",
              "    <tr>\n",
              "      <th>4</th>\n",
              "      <td>32</td>\n",
              "      <td>male</td>\n",
              "      <td>28.880</td>\n",
              "      <td>0</td>\n",
              "      <td>no</td>\n",
              "      <td>northwest</td>\n",
              "      <td>3866.85520</td>\n",
              "    </tr>\n",
              "  </tbody>\n",
              "</table>\n",
              "</div>"
            ],
            "text/plain": [
              "   age     sex     bmi  children smoker     region      charges\n",
              "0   19  female  27.900         0    yes  southwest  16884.92400\n",
              "1   18    male  33.770         1     no  southeast   1725.55230\n",
              "2   28    male  33.000         3     no  southeast   4449.46200\n",
              "3   33    male  22.705         0     no  northwest  21984.47061\n",
              "4   32    male  28.880         0     no  northwest   3866.85520"
            ]
          },
          "metadata": {},
          "execution_count": 5
        }
      ]
    },
    {
      "cell_type": "code",
      "source": [
        "#check the data \n",
        "data.info()"
      ],
      "metadata": {
        "colab": {
          "base_uri": "https://localhost:8080/",
          "height": 0
        },
        "id": "D9I1hA07IYy1",
        "outputId": "5e4097dc-3e1b-4bc4-a704-78c3f359f3c4"
      },
      "execution_count": 6,
      "outputs": [
        {
          "output_type": "stream",
          "name": "stdout",
          "text": [
            "<class 'pandas.core.frame.DataFrame'>\n",
            "RangeIndex: 1338 entries, 0 to 1337\n",
            "Data columns (total 7 columns):\n",
            " #   Column    Non-Null Count  Dtype  \n",
            "---  ------    --------------  -----  \n",
            " 0   age       1338 non-null   int64  \n",
            " 1   sex       1338 non-null   object \n",
            " 2   bmi       1338 non-null   float64\n",
            " 3   children  1338 non-null   int64  \n",
            " 4   smoker    1338 non-null   object \n",
            " 5   region    1338 non-null   object \n",
            " 6   charges   1338 non-null   float64\n",
            "dtypes: float64(2), int64(2), object(3)\n",
            "memory usage: 73.3+ KB\n"
          ]
        }
      ]
    },
    {
      "cell_type": "code",
      "source": [
        "#checking the null values\n",
        "data.isnull().sum()"
      ],
      "metadata": {
        "colab": {
          "base_uri": "https://localhost:8080/",
          "height": 0
        },
        "id": "6ceFcaAmIbc-",
        "outputId": "e656689f-b752-4dc1-a182-05ee8883d902"
      },
      "execution_count": 7,
      "outputs": [
        {
          "output_type": "execute_result",
          "data": {
            "text/plain": [
              "age         0\n",
              "sex         0\n",
              "bmi         0\n",
              "children    0\n",
              "smoker      0\n",
              "region      0\n",
              "charges     0\n",
              "dtype: int64"
            ]
          },
          "metadata": {},
          "execution_count": 7
        }
      ]
    },
    {
      "cell_type": "code",
      "source": [
        "data.drop_duplicates(inplace=True)\n",
        "data.shape"
      ],
      "metadata": {
        "colab": {
          "base_uri": "https://localhost:8080/",
          "height": 0
        },
        "id": "ZN4WAofYIwfY",
        "outputId": "6cd7834c-bb8a-431c-acd8-ceb40d5e452c"
      },
      "execution_count": 8,
      "outputs": [
        {
          "output_type": "execute_result",
          "data": {
            "text/plain": [
              "(1337, 7)"
            ]
          },
          "metadata": {},
          "execution_count": 8
        }
      ]
    },
    {
      "cell_type": "code",
      "source": [
        "data.nunique()"
      ],
      "metadata": {
        "colab": {
          "base_uri": "https://localhost:8080/",
          "height": 0
        },
        "id": "YRM1Z1mFJBJA",
        "outputId": "cdd2e9cd-5e7b-4b77-802b-c888e80013e5"
      },
      "execution_count": 9,
      "outputs": [
        {
          "output_type": "execute_result",
          "data": {
            "text/plain": [
              "age           47\n",
              "sex            2\n",
              "bmi          548\n",
              "children       6\n",
              "smoker         2\n",
              "region         4\n",
              "charges     1337\n",
              "dtype: int64"
            ]
          },
          "metadata": {},
          "execution_count": 9
        }
      ]
    },
    {
      "cell_type": "markdown",
      "source": [
        "**Data Analysis and Visualization** \n",
        "\n",
        "---\n",
        "\n"
      ],
      "metadata": {
        "id": "QF-Xo3-6es9F"
      }
    },
    {
      "cell_type": "code",
      "source": [
        "numerical = ['age', 'bmi', 'children']\n",
        "categorial = ['sex', 'smoker', 'region']\n",
        "target = ['charges']"
      ],
      "metadata": {
        "id": "O0eLRsVIJms9"
      },
      "execution_count": 10,
      "outputs": []
    },
    {
      "cell_type": "code",
      "source": [
        "f= plt.figure(figsize=(12,5))\n",
        "\n",
        "ax=f.add_subplot(121)\n",
        "sns.distplot(data[(data.smoker == \"yes\")][\"charges\"],color='c',ax=ax)\n",
        "ax.set_title('Distribution of charges for smokers')\n",
        "\n",
        "ax=f.add_subplot(122)\n",
        "sns.distplot(data[(data.smoker == \"no\")]['charges'],color='b',ax=ax)\n",
        "ax.set_title('Distribution of charges for non-smokers')"
      ],
      "metadata": {
        "colab": {
          "base_uri": "https://localhost:8080/",
          "height": 367
        },
        "id": "ormaOhG5Fa4E",
        "outputId": "51fc75c2-dbc7-4653-e629-020d8bc232a2"
      },
      "execution_count": 11,
      "outputs": [
        {
          "output_type": "execute_result",
          "data": {
            "text/plain": [
              "Text(0.5, 1.0, 'Distribution of charges for non-smokers')"
            ]
          },
          "metadata": {},
          "execution_count": 11
        },
        {
          "output_type": "display_data",
          "data": {
            "image/png": "[encoded data removed]",
            "text/plain": [
              "<Figure size 864x360 with 2 Axes>"
            ]
          },
          "metadata": {
            "needs_background": "light"
          }
        }
      ]
    },
    {
      "cell_type": "code",
      "source": [
        "sns.catplot(x=\"smoker\", kind=\"count\",hue = 'sex', palette=\"pink\", data=data)"
      ],
      "metadata": {
        "colab": {
          "base_uri": "https://localhost:8080/",
          "height": 386
        },
        "id": "V9z3Nxw7GTQ9",
        "outputId": "750c301b-b996-4caa-bd91-c6f2f97a88ac"
      },
      "execution_count": 12,
      "outputs": [
        {
          "output_type": "execute_result",
          "data": {
            "text/plain": [
              "<seaborn.axisgrid.FacetGrid at 0x7fdbca803610>"
            ]
          },
          "metadata": {},
          "execution_count": 12
        },
        {
          "output_type": "display_data",
          "data": {
            "image/png": "[encoded data removed]",
            "text/plain": [
              "<Figure size 430.5x360 with 1 Axes>"
            ]
          },
          "metadata": {
            "needs_background": "light"
          }
        }
      ]
    },
    {
      "cell_type": "markdown",
      "source": [
        "Also we can notice that more male smokers than women smokers. It can be assumed that the total cost of treatment in men will be more than in women, given the impact of smoking."
      ],
      "metadata": {
        "id": "pKeJ7LzFJm4E"
      }
    },
    {
      "cell_type": "markdown",
      "source": [
        "Now let's pay attention to the age of the patients. First, let's look at how age affects the cost of treatment, and also look at patients of what age more in our data set."
      ],
      "metadata": {
        "id": "bZTPGn7TJ4GL"
      }
    },
    {
      "cell_type": "code",
      "source": [
        "plt.figure(figsize=(12,5))\n",
        "plt.title(\"Distribution of age\")\n",
        "ax = sns.distplot(data[\"age\"], color = 'g')"
      ],
      "metadata": {
        "colab": {
          "base_uri": "https://localhost:8080/",
          "height": 350
        },
        "id": "Z3HulC1cJ22t",
        "outputId": "80c4b4b5-95cf-45d3-c82b-52ba2956ca2f"
      },
      "execution_count": 13,
      "outputs": [
        {
          "output_type": "display_data",
          "data": {
            "image/png": "[encoded data removed]",
            "text/plain": [
              "<Figure size 864x360 with 1 Axes>"
            ]
          },
          "metadata": {
            "needs_background": "light"
          }
        }
      ]
    },
    {
      "cell_type": "code",
      "source": [
        "sns.catplot(x=\"smoker\", kind=\"count\",hue = 'sex', palette=\"rainbow\", data=data[(data.age <= 20)])\n",
        "plt.title(\"The number of smokers and non-smokers (less than  or equal to 20 years old)\")"
      ],
      "metadata": {
        "colab": {
          "base_uri": "https://localhost:8080/",
          "height": 402
        },
        "id": "GWGy93TuMHtr",
        "outputId": "482dd6a2-3336-410f-dc23-9fedd7d00529"
      },
      "execution_count": 14,
      "outputs": [
        {
          "output_type": "execute_result",
          "data": {
            "text/plain": [
              "Text(0.5, 1.0, 'The number of smokers and non-smokers (less than  or equal to 20 years old)')"
            ]
          },
          "metadata": {},
          "execution_count": 14
        },
        {
          "output_type": "display_data",
          "data": {
            "image/png": "[encoded data removed]",
            "text/plain": [
              "<Figure size 430.5x360 with 1 Axes>"
            ]
          },
          "metadata": {
            "needs_background": "light"
          }
        }
      ]
    },
    {
      "cell_type": "markdown",
      "source": [
        " 18-20 years old - a very young age. Does smoking affect the cost of treatment at this age?"
      ],
      "metadata": {
        "id": "fhl8D1BaNlGX"
      }
    },
    {
      "cell_type": "code",
      "source": [
        "plt.figure(figsize=(12,5))\n",
        "plt.title(\"Box plot for charges <=20 years old smokers\")\n",
        "sns.boxplot(y=\"smoker\", x=\"charges\", data = data[(data.age <= 20)] , orient=\"h\", palette = 'pink')"
      ],
      "metadata": {
        "colab": {
          "base_uri": "https://localhost:8080/",
          "height": 367
        },
        "id": "xNlSOv8ANA-D",
        "outputId": "30d3aaaf-2d7f-45be-8418-b05ec4b1b2ac"
      },
      "execution_count": 15,
      "outputs": [
        {
          "output_type": "execute_result",
          "data": {
            "text/plain": [
              "<matplotlib.axes._subplots.AxesSubplot at 0x7fdbc19711d0>"
            ]
          },
          "metadata": {},
          "execution_count": 15
        },
        {
          "output_type": "display_data",
          "data": {
            "image/png": "[encoded data removed]",
            "text/plain": [
              "<Figure size 864x360 with 1 Axes>"
            ]
          },
          "metadata": {
            "needs_background": "light"
          }
        }
      ]
    },
    {
      "cell_type": "markdown",
      "source": [
        " As we can see, even at the age of 20 smokers spend much more on treatment than non-smokers. Among non-smokers we are seeing some \" tails.\" I can assume that this is due to serious diseases or accidents. "
      ],
      "metadata": {
        "id": "L-Mnx7_qNvpL"
      }
    },
    {
      "cell_type": "markdown",
      "source": [
        " Let's pay attention to bmi."
      ],
      "metadata": {
        "id": "Lvdweny_QA-g"
      }
    },
    {
      "cell_type": "code",
      "source": [
        "plt.figure(figsize=(12,5))\n",
        "plt.title(\"Distribution of bmi\")\n",
        "ax = sns.distplot(data[\"bmi\"], color = 'm')"
      ],
      "metadata": {
        "colab": {
          "base_uri": "https://localhost:8080/",
          "height": 350
        },
        "id": "EwKpvoP-QCGd",
        "outputId": "2348b9f3-2923-4720-f3e9-cf5536e30b78"
      },
      "execution_count": 16,
      "outputs": [
        {
          "output_type": "display_data",
          "data": {
            "image/png": "[encoded data removed]",
            "text/plain": [
              "<Figure size 864x360 with 1 Axes>"
            ]
          },
          "metadata": {
            "needs_background": "light"
          }
        }
      ]
    },
    {
      "cell_type": "markdown",
      "source": [
        "With a value equal to 30 starts obesity.\n",
        "\n",
        "Let's look at the distribution of costs in patients with BMI greater than 30 and less than 30."
      ],
      "metadata": {
        "id": "g5PYc5ZDQdyG"
      }
    },
    {
      "cell_type": "code",
      "source": [
        "plt.figure(figsize=(12,5))\n",
        "plt.title(\"Distribution of charges for patients with BMI greater than 30\")\n",
        "ax = sns.distplot(data[(data.bmi >= 30)]['charges'], color = 'm')"
      ],
      "metadata": {
        "colab": {
          "base_uri": "https://localhost:8080/",
          "height": 350
        },
        "id": "zsI8NZPuQnee",
        "outputId": "25c52666-b2c8-4807-cf91-b7bb8e7b4bd4"
      },
      "execution_count": 17,
      "outputs": [
        {
          "output_type": "display_data",
          "data": {
            "image/png": "[encoded data removed]",
            "text/plain": [
              "<Figure size 864x360 with 1 Axes>"
            ]
          },
          "metadata": {
            "needs_background": "light"
          }
        }
      ]
    },
    {
      "cell_type": "code",
      "source": [
        "plt.figure(figsize=(12,5))\n",
        "plt.title(\"Distribution of charges for patients with BMI less than 30\")\n",
        "ax = sns.distplot(data[(data.bmi < 30)]['charges'], color = 'b')"
      ],
      "metadata": {
        "colab": {
          "base_uri": "https://localhost:8080/",
          "height": 350
        },
        "id": "eiL9zV55Qrki",
        "outputId": "2ad0982c-72cd-456c-d2a9-1093fc2e9d7b"
      },
      "execution_count": 18,
      "outputs": [
        {
          "output_type": "display_data",
          "data": {
            "image/png": "[encoded data removed]",
            "text/plain": [
              "<Figure size 864x360 with 1 Axes>"
            ]
          },
          "metadata": {
            "needs_background": "light"
          }
        }
      ]
    },
    {
      "cell_type": "markdown",
      "source": [
        "Patients with BMI above 30 spend more on treatment!"
      ],
      "metadata": {
        "id": "1DncvubYQwIq"
      }
    },
    {
      "cell_type": "markdown",
      "source": [
        "Let's pay attention to children. First, let's see how many children our patients have."
      ],
      "metadata": {
        "id": "uwNMoZKmT_KD"
      }
    },
    {
      "cell_type": "code",
      "source": [
        "sns.catplot(x=\"children\", kind=\"count\", palette=\"ch:.25\", data=data, size = 6)"
      ],
      "metadata": {
        "colab": {
          "base_uri": "https://localhost:8080/",
          "height": 458
        },
        "id": "Ys-Lt4O-UAzR",
        "outputId": "77ed6443-21df-4cae-909c-e8669d665f55"
      },
      "execution_count": 19,
      "outputs": [
        {
          "output_type": "execute_result",
          "data": {
            "text/plain": [
              "<seaborn.axisgrid.FacetGrid at 0x7fdbc16d8a50>"
            ]
          },
          "metadata": {},
          "execution_count": 19
        },
        {
          "output_type": "display_data",
          "data": {
            "image/png": "[encoded data removed]",
            "text/plain": [
              "<Figure size 432x432 with 1 Axes>"
            ]
          },
          "metadata": {
            "needs_background": "light"
          }
        }
      ]
    },
    {
      "cell_type": "markdown",
      "source": [
        "Most patients do not have children. "
      ],
      "metadata": {
        "id": "t6dc-0SZUMdU"
      }
    },
    {
      "cell_type": "code",
      "source": [
        "data[numerical + target].hist(bins=45, figsize=(10, 10))"
      ],
      "metadata": {
        "colab": {
          "base_uri": "https://localhost:8080/",
          "height": 695
        },
        "id": "P0FWfxajQuuv",
        "outputId": "5e8c1f5e-0687-405d-ce9e-b5280683932d"
      },
      "execution_count": 20,
      "outputs": [
        {
          "output_type": "execute_result",
          "data": {
            "text/plain": [
              "array([[<matplotlib.axes._subplots.AxesSubplot object at 0x7fdbcdcb1b90>,\n",
              "        <matplotlib.axes._subplots.AxesSubplot object at 0x7fdbc15e8590>],\n",
              "       [<matplotlib.axes._subplots.AxesSubplot object at 0x7fdbc159bb90>,\n",
              "        <matplotlib.axes._subplots.AxesSubplot object at 0x7fdbc155e1d0>]],\n",
              "      dtype=object)"
            ]
          },
          "metadata": {},
          "execution_count": 20
        },
        {
          "output_type": "display_data",
          "data": {
            "image/png": "[encoded data removed]",
            "text/plain": [
              "<Figure size 720x720 with 4 Axes>"
            ]
          },
          "metadata": {
            "needs_background": "light"
          }
        }
      ]
    },
    {
      "cell_type": "markdown",
      "source": [
        "The bmi distribution is close to normal. \n"
      ],
      "metadata": {
        "id": "fFZub61VcXgZ"
      }
    },
    {
      "cell_type": "markdown",
      "source": [
        "**Data preprocessing**\n",
        "\n",
        "---\n",
        "\n"
      ],
      "metadata": {
        "id": "Q_H1VZ05c9iS"
      }
    },
    {
      "cell_type": "code",
      "source": [
        "# Converting categorical variable into indicator variables.\n",
        "\n",
        "X=data.iloc[:,0:6].values\n",
        "Y=data.iloc[:,6].values\n",
        "\n",
        "from sklearn.preprocessing import LabelEncoder, OneHotEncoder\n",
        "from sklearn.compose import ColumnTransformer\n",
        "\n",
        "labelencoder_X_1=LabelEncoder()\n",
        "X[:,1]=labelencoder_X_1.fit_transform(X[:,1])\n",
        "labelencoder_X_2=LabelEncoder()\n",
        "X[:,4]=labelencoder_X_2.fit_transform(X[:,4])\n",
        "labelencoder_X_3=LabelEncoder()\n",
        "X[:,5]=labelencoder_X_3.fit_transform(X[:,5])\n"
      ],
      "metadata": {
        "id": "XP8YruBbdSGH"
      },
      "execution_count": 21,
      "outputs": []
    },
    {
      "cell_type": "code",
      "source": [
        "df = pd.DataFrame(np.c_[X,Y], columns =['age','sex','bmi','children','smoker','region','charges'],dtype = float) \n",
        "plt.figure(figsize=(10, 10))\n",
        "sns.heatmap(df.corr(), annot=True)\n",
        "# print(data)"
      ],
      "metadata": {
        "colab": {
          "base_uri": "https://localhost:8080/",
          "height": 613
        },
        "id": "5DKWqaDw1K8W",
        "outputId": "803004c3-c4de-461b-9a17-4572f5dff33b"
      },
      "execution_count": 22,
      "outputs": [
        {
          "output_type": "execute_result",
          "data": {
            "text/plain": [
              "<matplotlib.axes._subplots.AxesSubplot at 0x7fdbcdc7ea10>"
            ]
          },
          "metadata": {},
          "execution_count": 22
        },
        {
          "output_type": "display_data",
          "data": {
            "image/png": "[encoded data removed]",
            "text/plain": [
              "<Figure size 720x720 with 2 Axes>"
            ]
          },
          "metadata": {
            "needs_background": "light"
          }
        }
      ]
    },
    {
      "cell_type": "code",
      "source": [
        "# using onehot encoder for region and droping one column\n",
        "onehotencoder_3 = ColumnTransformer([(\"region\", OneHotEncoder(), [5])], remainder = 'passthrough')\n",
        "X =onehotencoder_3.fit_transform(X)\n",
        "X = X[:, 1:]"
      ],
      "metadata": {
        "id": "iyC-P_PrACvO"
      },
      "execution_count": 23,
      "outputs": []
    },
    {
      "cell_type": "code",
      "source": [
        "from sklearn.preprocessing import StandardScaler\n",
        "from sklearn.model_selection import train_test_split, cross_val_score\n",
        "\n",
        "X_train, X_test, y_train, y_test = train_test_split(X, Y, random_state=0, test_size=0.20)"
      ],
      "metadata": {
        "id": "8FbMHD9WwQZ0"
      },
      "execution_count": 24,
      "outputs": []
    },
    {
      "cell_type": "code",
      "source": [
        "scaler = StandardScaler()\n",
        "X_train = scaler.fit_transform(X_train)\n",
        "X_test = scaler.transform(X_test)"
      ],
      "metadata": {
        "id": "5E9MqCP6wS_e"
      },
      "execution_count": 25,
      "outputs": []
    },
    {
      "cell_type": "markdown",
      "source": [
        " Now we are going to predict the cost of treatment using various **Machine Learning models**.\n",
        "\n"
      ],
      "metadata": {
        "id": "AlLPOrLuYmzb"
      }
    },
    {
      "cell_type": "code",
      "source": [
        "from sklearn.linear_model import LinearRegression\n",
        "from sklearn.tree import DecisionTreeRegressor\n",
        "from sklearn.neighbors import KNeighborsRegressor\n",
        "from sklearn.ensemble import RandomForestRegressor,GradientBoostingRegressor\n",
        "from sklearn.metrics import r2_score,mean_absolute_error,mean_squared_error\n",
        "from numpy import mean\n",
        "from numpy import std\n"
      ],
      "metadata": {
        "id": "48g137mowjtm"
      },
      "execution_count": 26,
      "outputs": []
    },
    {
      "cell_type": "markdown",
      "source": [
        "Regression report"
      ],
      "metadata": {
        "id": "vl9XQRF_af_C"
      }
    },
    {
      "cell_type": "code",
      "source": [
        "R2_Score=[]\n",
        "MSE=[]\n",
        "MAE=[]\n",
        "def regression_report(y_true, y_pred):\n",
        "    \n",
        "    error = y_true - y_pred\n",
        "    \n",
        "    metrics = [\n",
        "        ('mean absolute error', mean_absolute_error(y_true, y_pred)),\n",
        "        ('mean squared error', mean_squared_error(y_true, y_pred)),\n",
        "        ('r2 score', r2_score(y_true, y_pred)),\n",
        "    ]\n",
        "    R2_Score.append(r2_score(y_true, y_pred))\n",
        "    MSE.append(mean_squared_error(y_true, y_pred))\n",
        "    MAE.append(mean_absolute_error(y_true, y_pred))\n",
        "    print('Evaluation Metrics:')\n",
        "    for metric_name, metric_value in metrics:\n",
        "        print(f'{metric_name:>25s}: {metric_value: >20.3f}')"
      ],
      "metadata": {
        "id": "VysGfL6Bae7r"
      },
      "execution_count": 27,
      "outputs": []
    },
    {
      "cell_type": "markdown",
      "source": [
        "Linear Regression"
      ],
      "metadata": {
        "id": "njD2F_bZaE9a"
      }
    },
    {
      "cell_type": "code",
      "source": [
        "linear_regression=LinearRegression()\n",
        "linear_regression.fit(X_train,y_train)\n",
        "\n",
        "# 10 fold cross validation\n",
        "print(\"Cross validation score of training data set:\",cross_val_score(linear_regression, X_train, y_train,cv=10).mean())\n",
        "\n",
        "y_pred=linear_regression.predict(X_test)\n",
        "\n",
        "# regression report\n",
        "regression_report(y_test,y_pred)"
      ],
      "metadata": {
        "colab": {
          "base_uri": "https://localhost:8080/",
          "height": 0
        },
        "id": "FpoQLPZeaIXi",
        "outputId": "9d9a5e6e-d990-459b-e5ff-62d8623e5fdf"
      },
      "execution_count": 28,
      "outputs": [
        {
          "output_type": "stream",
          "name": "stdout",
          "text": [
            "Cross validation score of training data set: 0.7350589896702482\n",
            "Evaluation Metrics:\n",
            "      mean absolute error:             4396.031\n",
            "       mean squared error:         41546216.661\n",
            "                 r2 score:                0.753\n"
          ]
        }
      ]
    },
    {
      "cell_type": "markdown",
      "source": [
        "Decison tree regression"
      ],
      "metadata": {
        "id": "1V6NbtFnfAt_"
      }
    },
    {
      "cell_type": "code",
      "source": [
        "decision_tree=DecisionTreeRegressor(max_leaf_nodes=10)\n",
        "decision_tree.fit(X_train,y_train)\n",
        "\n",
        "# 10 fold cross validation\n",
        "print(\"Cross validation score of training data set:\",cross_val_score(decision_tree, X_train, y_train,cv=10).mean())\n",
        "\n",
        "y_pred=decision_tree.predict(X_test)\n",
        "\n",
        "# regression report\n",
        "regression_report(y_test,y_pred)"
      ],
      "metadata": {
        "colab": {
          "base_uri": "https://localhost:8080/",
          "height": 0
        },
        "id": "SUXPaqKtfEFG",
        "outputId": "27df7baa-0550-4553-d0bc-65d13310f775"
      },
      "execution_count": 29,
      "outputs": [
        {
          "output_type": "stream",
          "name": "stdout",
          "text": [
            "Cross validation score of training data set: 0.8443393388641238\n",
            "Evaluation Metrics:\n",
            "      mean absolute error:             3102.589\n",
            "       mean squared error:         27730305.438\n",
            "                 r2 score:                0.835\n"
          ]
        }
      ]
    },
    {
      "cell_type": "markdown",
      "source": [
        "Random Forest Regression"
      ],
      "metadata": {
        "id": "l2sSobn9f9P7"
      }
    },
    {
      "cell_type": "code",
      "source": [
        "random_forest=RandomForestRegressor(max_leaf_nodes=10)\n",
        "random_forest.fit(X_train,y_train)\n",
        "\n",
        "# 10 fold cross validation\n",
        "print(\"Cross validation score of training data set:\",cross_val_score(random_forest, X_train, y_train,cv=10).mean())\n",
        "\n",
        "y_pred=random_forest.predict(X_test)\n",
        "\n",
        "# regression report\n",
        "regression_report(y_test,y_pred)"
      ],
      "metadata": {
        "colab": {
          "base_uri": "https://localhost:8080/",
          "height": 0
        },
        "id": "LfAx0UiGgAKC",
        "outputId": "234cb998-3291-4551-b7ec-742e1864f3be"
      },
      "execution_count": 30,
      "outputs": [
        {
          "output_type": "stream",
          "name": "stdout",
          "text": [
            "Cross validation score of training data set: 0.8530297604577524\n",
            "Evaluation Metrics:\n",
            "      mean absolute error:             3028.090\n",
            "       mean squared error:         26862310.260\n",
            "                 r2 score:                0.840\n"
          ]
        }
      ]
    },
    {
      "cell_type": "markdown",
      "source": [
        "KNeighborsRegressor"
      ],
      "metadata": {
        "id": "NEVbvG6BhGt8"
      }
    },
    {
      "cell_type": "code",
      "source": [
        "knn=KNeighborsRegressor()\n",
        "knn.fit(X_train,y_train)\n",
        "\n",
        "# 10 fold cross validation\n",
        "print(\"Cross validation score of training data set:\",cross_val_score(knn, X_train, y_train,cv=10).mean())\n",
        "\n",
        "y_pred=knn.predict(X_test)\n",
        "\n",
        "# regression report\n",
        "regression_report(y_test,y_pred)"
      ],
      "metadata": {
        "colab": {
          "base_uri": "https://localhost:8080/",
          "height": 0
        },
        "id": "UNd4wXUnf8zz",
        "outputId": "3ba20610-b048-4cc8-be0f-bff9725e54a4"
      },
      "execution_count": 31,
      "outputs": [
        {
          "output_type": "stream",
          "name": "stdout",
          "text": [
            "Cross validation score of training data set: 0.7731001542881967\n",
            "Evaluation Metrics:\n",
            "      mean absolute error:             3695.260\n",
            "       mean squared error:         33728110.656\n",
            "                 r2 score:                0.800\n"
          ]
        }
      ]
    },
    {
      "cell_type": "markdown",
      "source": [
        "**Neural Netwok**"
      ],
      "metadata": {
        "id": "2JM8UQQVqWnv"
      }
    },
    {
      "cell_type": "code",
      "source": [
        "import keras\n",
        "from keras.models import Sequential # initialise nerual network\n",
        "from keras.layers import Dense #  to add diferent layers in NN\n",
        "\n",
        "# initialising the ANN\n",
        "model = Sequential()\n",
        "\n",
        "# Adding the input layer and the first hidden layer\n",
        "model.add(keras.Input(shape=(8,)))\n",
        "model.add(Dense(5, activation='swish', kernel_initializer='uniform'))\n",
        "model.add(Dense(5, activation='swish', kernel_initializer='uniform'))\n",
        "model.add(Dense(1, activation='swish', kernel_initializer='uniform'))\n",
        "\n",
        "# compilng the ANN\n",
        "# from keras import backend as K\n",
        "\n",
        "from keras import backend as K\n",
        "\n",
        "def root_mean_squared_error(y_true, y_pred):\n",
        "        return K.sqrt(K.mean(K.square(y_pred - y_true)))\n",
        "\n",
        "model.compile(optimizer='rmsprop', loss=root_mean_squared_error,metrics=['mse','mae'])\n",
        "\n",
        "# Fit the ANN to the training set\n",
        "# stochaistic gradient descent\n",
        "model.fit(X_train, y_train, batch_size=1,epochs=100)\n",
        "\n",
        "# 3- making the prediction and evaluating the model\n",
        "y_predd=model.predict(X_test)\n",
        "\n",
        "\n",
        "print(\"R2 score :--->>\",r2_score(y_test,y_predd))\n",
        "\n",
        "R2_Score.append(r2_score(y_test, y_predd))\n",
        "MSE.append(mean_squared_error(y_test, y_predd))\n",
        "MAE.append(mean_absolute_error(y_test, y_predd))"
      ],
      "metadata": {
        "colab": {
          "base_uri": "https://localhost:8080/",
          "height": 0
        },
        "id": "Iug_9sc7xXYu",
        "outputId": "dc0b28c5-30f3-4588-b062-fec115e4cb8a"
      },
      "execution_count": 32,
      "outputs": [
        {
          "output_type": "stream",
          "name": "stdout",
          "text": [
            "Epoch 1/100\n",
            "1069/1069 [==============================] - 2s 2ms/step - loss: 13080.5986 - mse: 312029056.0000 - mae: 13080.5986\n",
            "Epoch 2/100\n",
            "1069/1069 [==============================] - 2s 2ms/step - loss: 13059.7441 - mse: 311514656.0000 - mae: 13059.7441\n",
            "Epoch 3/100\n",
            "1069/1069 [==============================] - 2s 2ms/step - loss: 13006.4941 - mse: 310180160.0000 - mae: 13006.4941\n",
            "Epoch 4/100\n",
            "1069/1069 [==============================] - 2s 2ms/step - loss: 12905.0498 - mse: 307676064.0000 - mae: 12905.0498\n",
            "Epoch 5/100\n",
            "1069/1069 [==============================] - 2s 1ms/step - loss: 12741.5332 - mse: 303654464.0000 - mae: 12741.5332\n",
            "Epoch 6/100\n",
            "1069/1069 [==============================] - 2s 1ms/step - loss: 12501.4941 - mse: 297911296.0000 - mae: 12501.4941\n",
            "Epoch 7/100\n",
            "1069/1069 [==============================] - 2s 2ms/step - loss: 12170.2852 - mse: 290132448.0000 - mae: 12170.2852\n",
            "Epoch 8/100\n",
            "1069/1069 [==============================] - 2s 2ms/step - loss: 11744.0869 - mse: 280319552.0000 - mae: 11744.0869\n",
            "Epoch 9/100\n",
            "1069/1069 [==============================] - 2s 2ms/step - loss: 11267.5029 - mse: 269034368.0000 - mae: 11267.5029\n",
            "Epoch 10/100\n",
            "1069/1069 [==============================] - 2s 2ms/step - loss: 10797.1533 - mse: 257053264.0000 - mae: 10797.1533\n",
            "Epoch 11/100\n",
            "1069/1069 [==============================] - 2s 2ms/step - loss: 10314.1689 - mse: 244169056.0000 - mae: 10314.1689\n",
            "Epoch 12/100\n",
            "1069/1069 [==============================] - 2s 2ms/step - loss: 9811.9951 - mse: 230758080.0000 - mae: 9811.9951\n",
            "Epoch 13/100\n",
            "1069/1069 [==============================] - 2s 2ms/step - loss: 9286.6406 - mse: 217019776.0000 - mae: 9286.6406\n",
            "Epoch 14/100\n",
            "1069/1069 [==============================] - 2s 2ms/step - loss: 8737.3516 - mse: 203353552.0000 - mae: 8737.3516\n",
            "Epoch 15/100\n",
            "1069/1069 [==============================] - 2s 2ms/step - loss: 8117.6987 - mse: 190341504.0000 - mae: 8117.6987\n",
            "Epoch 16/100\n",
            "1069/1069 [==============================] - 2s 2ms/step - loss: 7432.6953 - mse: 177965440.0000 - mae: 7432.6953\n",
            "Epoch 17/100\n",
            "1069/1069 [==============================] - 2s 2ms/step - loss: 6886.3369 - mse: 165568368.0000 - mae: 6886.3369\n",
            "Epoch 18/100\n",
            "1069/1069 [==============================] - 2s 2ms/step - loss: 6477.5078 - mse: 154392448.0000 - mae: 6477.5078\n",
            "Epoch 19/100\n",
            "1069/1069 [==============================] - 2s 1ms/step - loss: 6171.8813 - mse: 145025536.0000 - mae: 6171.8813\n",
            "Epoch 20/100\n",
            "1069/1069 [==============================] - 2s 1ms/step - loss: 5924.3438 - mse: 136856944.0000 - mae: 5924.3438\n",
            "Epoch 21/100\n",
            "1069/1069 [==============================] - 2s 1ms/step - loss: 5702.8853 - mse: 129073600.0000 - mae: 5702.8853\n",
            "Epoch 22/100\n",
            "1069/1069 [==============================] - 2s 1ms/step - loss: 5494.3135 - mse: 121845464.0000 - mae: 5494.3135\n",
            "Epoch 23/100\n",
            "1069/1069 [==============================] - 2s 1ms/step - loss: 5284.8188 - mse: 114410824.0000 - mae: 5284.8188\n",
            "Epoch 24/100\n",
            "1069/1069 [==============================] - 2s 2ms/step - loss: 5079.6016 - mse: 107435120.0000 - mae: 5079.6016\n",
            "Epoch 25/100\n",
            "1069/1069 [==============================] - 2s 1ms/step - loss: 4867.1055 - mse: 100252744.0000 - mae: 4867.1055\n",
            "Epoch 26/100\n",
            "1069/1069 [==============================] - 2s 1ms/step - loss: 4649.5435 - mse: 93269472.0000 - mae: 4649.5435\n",
            "Epoch 27/100\n",
            "1069/1069 [==============================] - 2s 1ms/step - loss: 4428.8384 - mse: 86758456.0000 - mae: 4428.8384\n",
            "Epoch 28/100\n",
            "1069/1069 [==============================] - 2s 1ms/step - loss: 4213.5825 - mse: 79834632.0000 - mae: 4213.5825\n",
            "Epoch 29/100\n",
            "1069/1069 [==============================] - 2s 1ms/step - loss: 4021.1675 - mse: 74110712.0000 - mae: 4021.1675\n",
            "Epoch 30/100\n",
            "1069/1069 [==============================] - 2s 1ms/step - loss: 3847.8101 - mse: 68812120.0000 - mae: 3847.8101\n",
            "Epoch 31/100\n",
            "1069/1069 [==============================] - 2s 2ms/step - loss: 3727.4290 - mse: 64578416.0000 - mae: 3727.4290\n",
            "Epoch 32/100\n",
            "1069/1069 [==============================] - 2s 2ms/step - loss: 3629.4211 - mse: 61189504.0000 - mae: 3629.4211\n",
            "Epoch 33/100\n",
            "1069/1069 [==============================] - 2s 2ms/step - loss: 3565.1631 - mse: 58472648.0000 - mae: 3565.1631\n",
            "Epoch 34/100\n",
            "1069/1069 [==============================] - 2s 2ms/step - loss: 3523.4741 - mse: 56472508.0000 - mae: 3523.4741\n",
            "Epoch 35/100\n",
            "1069/1069 [==============================] - 2s 1ms/step - loss: 3490.5745 - mse: 54581008.0000 - mae: 3490.5745\n",
            "Epoch 36/100\n",
            "1069/1069 [==============================] - 2s 1ms/step - loss: 3459.6138 - mse: 53436452.0000 - mae: 3459.6138\n",
            "Epoch 37/100\n",
            "1069/1069 [==============================] - 2s 1ms/step - loss: 3437.0940 - mse: 51846948.0000 - mae: 3437.0940\n",
            "Epoch 38/100\n",
            "1069/1069 [==============================] - 2s 1ms/step - loss: 3411.6028 - mse: 50816544.0000 - mae: 3411.6028\n",
            "Epoch 39/100\n",
            "1069/1069 [==============================] - 2s 2ms/step - loss: 3391.4128 - mse: 49800164.0000 - mae: 3391.4128\n",
            "Epoch 40/100\n",
            "1069/1069 [==============================] - 2s 1ms/step - loss: 3369.0259 - mse: 48546416.0000 - mae: 3369.0259\n",
            "Epoch 41/100\n",
            "1069/1069 [==============================] - 1s 1ms/step - loss: 3345.8350 - mse: 47743312.0000 - mae: 3345.8350\n",
            "Epoch 42/100\n",
            "1069/1069 [==============================] - 2s 1ms/step - loss: 3320.4761 - mse: 46690384.0000 - mae: 3320.4761\n",
            "Epoch 43/100\n",
            "1069/1069 [==============================] - 2s 2ms/step - loss: 3297.9255 - mse: 45786956.0000 - mae: 3297.9255\n",
            "Epoch 44/100\n",
            "1069/1069 [==============================] - 2s 1ms/step - loss: 3278.6223 - mse: 44777556.0000 - mae: 3278.6223\n",
            "Epoch 45/100\n",
            "1069/1069 [==============================] - 2s 1ms/step - loss: 3256.6311 - mse: 43857776.0000 - mae: 3256.6311\n",
            "Epoch 46/100\n",
            "1069/1069 [==============================] - 2s 2ms/step - loss: 3235.0986 - mse: 43044688.0000 - mae: 3235.0986\n",
            "Epoch 47/100\n",
            "1069/1069 [==============================] - 2s 2ms/step - loss: 3214.7546 - mse: 42372712.0000 - mae: 3214.7546\n",
            "Epoch 48/100\n",
            "1069/1069 [==============================] - 2s 2ms/step - loss: 3198.4250 - mse: 41678964.0000 - mae: 3198.4250\n",
            "Epoch 49/100\n",
            "1069/1069 [==============================] - 2s 1ms/step - loss: 3176.2639 - mse: 40954012.0000 - mae: 3176.2639\n",
            "Epoch 50/100\n",
            "1069/1069 [==============================] - 2s 1ms/step - loss: 3158.4751 - mse: 40211896.0000 - mae: 3158.4751\n",
            "Epoch 51/100\n",
            "1069/1069 [==============================] - 2s 2ms/step - loss: 3140.6765 - mse: 39510648.0000 - mae: 3140.6765\n",
            "Epoch 52/100\n",
            "1069/1069 [==============================] - 2s 1ms/step - loss: 3121.0205 - mse: 38899140.0000 - mae: 3121.0205\n",
            "Epoch 53/100\n",
            "1069/1069 [==============================] - 2s 2ms/step - loss: 3104.4065 - mse: 38271636.0000 - mae: 3104.4065\n",
            "Epoch 54/100\n",
            "1069/1069 [==============================] - 2s 2ms/step - loss: 3082.2295 - mse: 37550792.0000 - mae: 3082.2295\n",
            "Epoch 55/100\n",
            "1069/1069 [==============================] - 2s 1ms/step - loss: 3067.4158 - mse: 36974812.0000 - mae: 3067.4158\n",
            "Epoch 56/100\n",
            "1069/1069 [==============================] - 2s 2ms/step - loss: 3045.7039 - mse: 36394340.0000 - mae: 3045.7039\n",
            "Epoch 57/100\n",
            "1069/1069 [==============================] - 2s 2ms/step - loss: 3032.3818 - mse: 35622524.0000 - mae: 3032.3818\n",
            "Epoch 58/100\n",
            "1069/1069 [==============================] - 2s 2ms/step - loss: 3013.3345 - mse: 35116964.0000 - mae: 3013.3345\n",
            "Epoch 59/100\n",
            "1069/1069 [==============================] - 2s 1ms/step - loss: 2997.3064 - mse: 34536212.0000 - mae: 2997.3064\n",
            "Epoch 60/100\n",
            "1069/1069 [==============================] - 2s 1ms/step - loss: 2978.5488 - mse: 33814892.0000 - mae: 2978.5488\n",
            "Epoch 61/100\n",
            "1069/1069 [==============================] - 2s 2ms/step - loss: 2961.4067 - mse: 33450514.0000 - mae: 2961.4067\n",
            "Epoch 62/100\n",
            "1069/1069 [==============================] - 2s 2ms/step - loss: 2941.1204 - mse: 32798516.0000 - mae: 2941.1204\n",
            "Epoch 63/100\n",
            "1069/1069 [==============================] - 2s 1ms/step - loss: 2925.3953 - mse: 32237734.0000 - mae: 2925.3953\n",
            "Epoch 64/100\n",
            "1069/1069 [==============================] - 2s 1ms/step - loss: 2903.6353 - mse: 31746926.0000 - mae: 2903.6353\n",
            "Epoch 65/100\n",
            "1069/1069 [==============================] - 2s 2ms/step - loss: 2883.0830 - mse: 31175668.0000 - mae: 2883.0830\n",
            "Epoch 66/100\n",
            "1069/1069 [==============================] - 2s 2ms/step - loss: 2870.1292 - mse: 30844064.0000 - mae: 2870.1292\n",
            "Epoch 67/100\n",
            "1069/1069 [==============================] - 2s 2ms/step - loss: 2850.0640 - mse: 30357908.0000 - mae: 2850.0640\n",
            "Epoch 68/100\n",
            "1069/1069 [==============================] - 2s 2ms/step - loss: 2829.9282 - mse: 29958710.0000 - mae: 2829.9282\n",
            "Epoch 69/100\n",
            "1069/1069 [==============================] - 2s 2ms/step - loss: 2811.4714 - mse: 29431742.0000 - mae: 2811.4714\n",
            "Epoch 70/100\n",
            "1069/1069 [==============================] - 2s 2ms/step - loss: 2792.6873 - mse: 29017802.0000 - mae: 2792.6873\n",
            "Epoch 71/100\n",
            "1069/1069 [==============================] - 2s 2ms/step - loss: 2773.1360 - mse: 28812092.0000 - mae: 2773.1360\n",
            "Epoch 72/100\n",
            "1069/1069 [==============================] - 2s 2ms/step - loss: 2755.6052 - mse: 28239514.0000 - mae: 2755.6052\n",
            "Epoch 73/100\n",
            "1069/1069 [==============================] - 2s 1ms/step - loss: 2740.2971 - mse: 28025560.0000 - mae: 2740.2971\n",
            "Epoch 74/100\n",
            "1069/1069 [==============================] - 2s 2ms/step - loss: 2721.8918 - mse: 27748738.0000 - mae: 2721.8918\n",
            "Epoch 75/100\n",
            "1069/1069 [==============================] - 2s 2ms/step - loss: 2695.2690 - mse: 27506896.0000 - mae: 2695.2690\n",
            "Epoch 76/100\n",
            "1069/1069 [==============================] - 2s 2ms/step - loss: 2681.2122 - mse: 27110320.0000 - mae: 2681.2122\n",
            "Epoch 77/100\n",
            "1069/1069 [==============================] - 2s 2ms/step - loss: 2661.3206 - mse: 26883674.0000 - mae: 2661.3206\n",
            "Epoch 78/100\n",
            "1069/1069 [==============================] - 2s 1ms/step - loss: 2640.2075 - mse: 26801124.0000 - mae: 2640.2075\n",
            "Epoch 79/100\n",
            "1069/1069 [==============================] - 2s 1ms/step - loss: 2621.5332 - mse: 26554208.0000 - mae: 2621.5332\n",
            "Epoch 80/100\n",
            "1069/1069 [==============================] - 2s 1ms/step - loss: 2600.8518 - mse: 26358418.0000 - mae: 2600.8518\n",
            "Epoch 81/100\n",
            "1069/1069 [==============================] - 2s 2ms/step - loss: 2585.5798 - mse: 26399406.0000 - mae: 2585.5798\n",
            "Epoch 82/100\n",
            "1069/1069 [==============================] - 2s 2ms/step - loss: 2574.0811 - mse: 26209488.0000 - mae: 2574.0811\n",
            "Epoch 83/100\n",
            "1069/1069 [==============================] - 2s 1ms/step - loss: 2563.3328 - mse: 26157414.0000 - mae: 2563.3328\n",
            "Epoch 84/100\n",
            "1069/1069 [==============================] - 2s 2ms/step - loss: 2555.2507 - mse: 26042010.0000 - mae: 2555.2507\n",
            "Epoch 85/100\n",
            "1069/1069 [==============================] - 2s 2ms/step - loss: 2546.3696 - mse: 26001928.0000 - mae: 2546.3696\n",
            "Epoch 86/100\n",
            "1069/1069 [==============================] - 2s 2ms/step - loss: 2539.5955 - mse: 25941244.0000 - mae: 2539.5955\n",
            "Epoch 87/100\n",
            "1069/1069 [==============================] - 2s 1ms/step - loss: 2528.6985 - mse: 25857754.0000 - mae: 2528.6985\n",
            "Epoch 88/100\n",
            "1069/1069 [==============================] - 2s 2ms/step - loss: 2522.0862 - mse: 25827000.0000 - mae: 2522.0862\n",
            "Epoch 89/100\n",
            "1069/1069 [==============================] - 2s 2ms/step - loss: 2510.8118 - mse: 25696892.0000 - mae: 2510.8118\n",
            "Epoch 90/100\n",
            "1069/1069 [==============================] - 2s 2ms/step - loss: 2505.5066 - mse: 25644528.0000 - mae: 2505.5066\n",
            "Epoch 91/100\n",
            "1069/1069 [==============================] - 2s 1ms/step - loss: 2497.3665 - mse: 25602496.0000 - mae: 2497.3665\n",
            "Epoch 92/100\n",
            "1069/1069 [==============================] - 2s 2ms/step - loss: 2490.4829 - mse: 25477558.0000 - mae: 2490.4829\n",
            "Epoch 93/100\n",
            "1069/1069 [==============================] - 2s 2ms/step - loss: 2483.4067 - mse: 25484494.0000 - mae: 2483.4067\n",
            "Epoch 94/100\n",
            "1069/1069 [==============================] - 2s 2ms/step - loss: 2478.0876 - mse: 25373702.0000 - mae: 2478.0876\n",
            "Epoch 95/100\n",
            "1069/1069 [==============================] - 2s 2ms/step - loss: 2471.7617 - mse: 25370108.0000 - mae: 2471.7617\n",
            "Epoch 96/100\n",
            "1069/1069 [==============================] - 2s 2ms/step - loss: 2460.6396 - mse: 25322232.0000 - mae: 2460.6396\n",
            "Epoch 97/100\n",
            "1069/1069 [==============================] - 2s 1ms/step - loss: 2459.5508 - mse: 25287358.0000 - mae: 2459.5508\n",
            "Epoch 98/100\n",
            "1069/1069 [==============================] - 2s 2ms/step - loss: 2451.8730 - mse: 25230746.0000 - mae: 2451.8730\n",
            "Epoch 99/100\n",
            "1069/1069 [==============================] - 2s 2ms/step - loss: 2448.4136 - mse: 25127306.0000 - mae: 2448.4136\n",
            "Epoch 100/100\n",
            "1069/1069 [==============================] - 2s 2ms/step - loss: 2442.6460 - mse: 25131370.0000 - mae: 2442.6460\n",
            "R2 score :--->> 0.8090469834734562\n"
          ]
        }
      ]
    },
    {
      "cell_type": "code",
      "source": [
        "col={'R2_score':R2_Score}\n",
        "print(col)\n",
        "models=['Linear Regression','Decision Tree','Random Forest','KNN','ANN']\n",
        "df_R2=pd.DataFrame(data=col,index=models)\n",
        "df_R2"
      ],
      "metadata": {
        "colab": {
          "base_uri": "https://localhost:8080/",
          "height": 224
        },
        "id": "fhEXNP2Nq1Km",
        "outputId": "8ec35090-b28f-4397-fad2-1db597057f2f"
      },
      "execution_count": 33,
      "outputs": [
        {
          "output_type": "stream",
          "name": "stdout",
          "text": [
            "{'R2_score': [0.7530385567240128, 0.8351639017002683, 0.8403234892418667, 0.799511398242944, 0.8090469834734562]}\n"
          ]
        },
        {
          "output_type": "execute_result",
          "data": {
            "text/html": [
              "<div>\n",
              "<style scoped>\n",
              "    .dataframe tbody tr th:only-of-type {\n",
              "        vertical-align: middle;\n",
              "    }\n",
              "\n",
              "    .dataframe tbody tr th {\n",
              "        vertical-align: top;\n",
              "    }\n",
              "\n",
              "    .dataframe thead th {\n",
              "        text-align: right;\n",
              "    }\n",
              "</style>\n",
              "<table border=\"1\" class=\"dataframe\">\n",
              "  <thead>\n",
              "    <tr style=\"text-align: right;\">\n",
              "      <th></th>\n",
              "      <th>R2_score</th>\n",
              "    </tr>\n",
              "  </thead>\n",
              "  <tbody>\n",
              "    <tr>\n",
              "      <th>Linear Regression</th>\n",
              "      <td>0.753039</td>\n",
              "    </tr>\n",
              "    <tr>\n",
              "      <th>Decision Tree</th>\n",
              "      <td>0.835164</td>\n",
              "    </tr>\n",
              "    <tr>\n",
              "      <th>Random Forest</th>\n",
              "      <td>0.840323</td>\n",
              "    </tr>\n",
              "    <tr>\n",
              "      <th>KNN</th>\n",
              "      <td>0.799511</td>\n",
              "    </tr>\n",
              "    <tr>\n",
              "      <th>ANN</th>\n",
              "      <td>0.809047</td>\n",
              "    </tr>\n",
              "  </tbody>\n",
              "</table>\n",
              "</div>"
            ],
            "text/plain": [
              "                   R2_score\n",
              "Linear Regression  0.753039\n",
              "Decision Tree      0.835164\n",
              "Random Forest      0.840323\n",
              "KNN                0.799511\n",
              "ANN                0.809047"
            ]
          },
          "metadata": {},
          "execution_count": 33
        }
      ]
    },
    {
      "cell_type": "code",
      "source": [
        "df_R2.plot(kind='bar')"
      ],
      "metadata": {
        "colab": {
          "base_uri": "https://localhost:8080/",
          "height": 361
        },
        "id": "ARREoIKEW0QR",
        "outputId": "41748b17-6af2-4c24-f3c4-3ddfe7b0ff06"
      },
      "execution_count": 34,
      "outputs": [
        {
          "output_type": "execute_result",
          "data": {
            "text/plain": [
              "<matplotlib.axes._subplots.AxesSubplot at 0x7fdb4dec8bd0>"
            ]
          },
          "metadata": {},
          "execution_count": 34
        },
        {
          "output_type": "display_data",
          "data": {
            "image/png": "[encoded data removed]",
            "text/plain": [
              "<Figure size 432x288 with 1 Axes>"
            ]
          },
          "metadata": {
            "needs_background": "light"
          }
        }
      ]
    },
    {
      "cell_type": "code",
      "source": [
        "col={'MeanAbsoluteError':MAE}\n",
        "print(col)\n",
        "models=['Linear Regression','Decision Tree','Random Forest','KNN','ANN']\n",
        "df_error=pd.DataFrame(data=col,index=models)\n",
        "df_error"
      ],
      "metadata": {
        "colab": {
          "base_uri": "https://localhost:8080/",
          "height": 224
        },
        "id": "EFUhheYmXQkp",
        "outputId": "18c8bd07-5569-430f-df0a-28bcf00fe28d"
      },
      "execution_count": 35,
      "outputs": [
        {
          "output_type": "stream",
          "name": "stdout",
          "text": [
            "{'MeanAbsoluteError': [4396.031406695098, 3102.588511366635, 3028.089829580364, 3695.2595249104475, 2891.9332420990627]}\n"
          ]
        },
        {
          "output_type": "execute_result",
          "data": {
            "text/html": [
              "<div>\n",
              "<style scoped>\n",
              "    .dataframe tbody tr th:only-of-type {\n",
              "        vertical-align: middle;\n",
              "    }\n",
              "\n",
              "    .dataframe tbody tr th {\n",
              "        vertical-align: top;\n",
              "    }\n",
              "\n",
              "    .dataframe thead th {\n",
              "        text-align: right;\n",
              "    }\n",
              "</style>\n",
              "<table border=\"1\" class=\"dataframe\">\n",
              "  <thead>\n",
              "    <tr style=\"text-align: right;\">\n",
              "      <th></th>\n",
              "      <th>MeanAbsoluteError</th>\n",
              "    </tr>\n",
              "  </thead>\n",
              "  <tbody>\n",
              "    <tr>\n",
              "      <th>Linear Regression</th>\n",
              "      <td>4396.031407</td>\n",
              "    </tr>\n",
              "    <tr>\n",
              "      <th>Decision Tree</th>\n",
              "      <td>3102.588511</td>\n",
              "    </tr>\n",
              "    <tr>\n",
              "      <th>Random Forest</th>\n",
              "      <td>3028.089830</td>\n",
              "    </tr>\n",
              "    <tr>\n",
              "      <th>KNN</th>\n",
              "      <td>3695.259525</td>\n",
              "    </tr>\n",
              "    <tr>\n",
              "      <th>ANN</th>\n",
              "      <td>2891.933242</td>\n",
              "    </tr>\n",
              "  </tbody>\n",
              "</table>\n",
              "</div>"
            ],
            "text/plain": [
              "                   MeanAbsoluteError\n",
              "Linear Regression        4396.031407\n",
              "Decision Tree            3102.588511\n",
              "Random Forest            3028.089830\n",
              "KNN                      3695.259525\n",
              "ANN                      2891.933242"
            ]
          },
          "metadata": {},
          "execution_count": 35
        }
      ]
    },
    {
      "cell_type": "code",
      "source": [
        "df_error.plot(kind='bar')"
      ],
      "metadata": {
        "colab": {
          "base_uri": "https://localhost:8080/",
          "height": 361
        },
        "id": "gTo1bS3BYGkq",
        "outputId": "7968d377-2bda-4f60-bc8c-b45b65369cd7"
      },
      "execution_count": 36,
      "outputs": [
        {
          "output_type": "execute_result",
          "data": {
            "text/plain": [
              "<matplotlib.axes._subplots.AxesSubplot at 0x7fdb4f122190>"
            ]
          },
          "metadata": {},
          "execution_count": 36
        },
        {
          "output_type": "display_data",
          "data": {
            "image/png": "[encoded data removed]",
            "text/plain": [
              "<Figure size 432x288 with 1 Axes>"
            ]
          },
          "metadata": {
            "needs_background": "light"
          }
        }
      ]
    }
  ]
}